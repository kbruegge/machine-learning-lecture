{
 "cells": [
  {
   "cell_type": "markdown",
   "id": "2a42f6dc",
   "metadata": {},
   "source": [
    "# Short Introduction to Neural Networks and Deep Learning with Pytorch"
   ]
  },
  {
   "cell_type": "code",
   "execution_count": null,
   "id": "2d86167c",
   "metadata": {},
   "outputs": [],
   "source": [
    "import os\n",
    "\n",
    "\n",
    "import matplotlib.pyplot as plt\n",
    "import numpy as np\n",
    "\n",
    "from tqdm.auto import tqdm\n",
    "\n",
    "# keras supports tensorflow, torch and jax\n",
    "os.environ[\"KERAS_BACKEND\"] = \"torch\"\n",
    "\n",
    "import keras\n",
    "from keras import layers\n",
    "from keras import ops"
   ]
  },
  {
   "cell_type": "code",
   "execution_count": null,
   "id": "1ead697a",
   "metadata": {},
   "outputs": [],
   "source": [
    "%matplotlib widget\n",
    "\n",
    "plt.rcParams[\"figure.constrained_layout.use\"] = True"
   ]
  },
  {
   "cell_type": "markdown",
   "id": "53b553b9",
   "metadata": {},
   "source": [
    "# How to define a Neural Network Architecture in Keras\n",
    "\n",
    "To declare a new Network architecture, we create an instance of [`keras.Sequential`](https://keras.io/guides/sequential_model/)\n",
    "\n",
    "We can define the layers that are applied *in sequence*. \n",
    "\n",
    "Keras completely takes care about gradient computation using back propagation for us."
   ]
  },
  {
   "cell_type": "code",
   "execution_count": null,
   "id": "ff06fc7b",
   "metadata": {},
   "outputs": [],
   "source": [
    "model = keras.Sequential(\n",
    "    name=\"fully-connected\",\n",
    "    layers=[\n",
    "        layers.Dense(128, activation=\"relu\", name='hidden-1'),\n",
    "        layers.Dense(128, activation=\"relu\", name='hidden-2'),\n",
    "        layers.Dense(10, activation=\"softmax\", name='output'),\n",
    "    ],\n",
    ")\n",
    "\n",
    "model.summary()"
   ]
  },
  {
   "cell_type": "markdown",
   "id": "b4ad8146-9098-4efb-a40e-b9e60935fbed",
   "metadata": {},
   "source": [
    "Observe that the input shapes are not yet fixed. It will be determined once applied to data for the first time:"
   ]
  },
  {
   "cell_type": "code",
   "execution_count": null,
   "id": "fa3d4f8d-80de-4ba3-b7ee-28f79c01fdee",
   "metadata": {},
   "outputs": [],
   "source": [
    "dummy = np.zeros((1, 8 * 8))\n",
    "model(dummy)\n",
    "model.summary()"
   ]
  },
  {
   "cell_type": "markdown",
   "id": "f842e09a",
   "metadata": {},
   "source": [
    "Now we are building a more flexible model, where we can pass some options:"
   ]
  },
  {
   "cell_type": "code",
   "execution_count": null,
   "id": "479c7554",
   "metadata": {},
   "outputs": [],
   "source": [
    "def create_model(n_classes, n_hidden, dropout=0.25, activation=\"leaky_relu\"):\n",
    "    return keras.Sequential(\n",
    "        layers=[\n",
    "            # flatten and normalize input\n",
    "            layers.Flatten(),\n",
    "            layers.BatchNormalization(),\n",
    "            # first hidden layer\n",
    "            layers.Dense(n_hidden, activation=activation),\n",
    "            layers.BatchNormalization(),\n",
    "            layers.Dropout(dropout),\n",
    "    \n",
    "            # second hidden layer\n",
    "            layers.Dense(n_hidden, activation=activation),\n",
    "            layers.BatchNormalization(),\n",
    "            layers.Dropout(dropout),\n",
    "    \n",
    "            # output layer\n",
    "            layers.Dense(n_classes, activation=\"softmax\")\n",
    "        ]\n",
    "    )\n",
    "\n",
    "model = create_model(n_classes=10, n_hidden=128)\n",
    "model(np.zeros((1, 28, 28)))\n",
    "model.summary()"
   ]
  },
  {
   "cell_type": "markdown",
   "id": "5f24277b",
   "metadata": {},
   "source": [
    "# Training\n",
    "\n",
    "Keras comes with default fit / evaluate functions.\n",
    "\n",
    "We could roll our own, but for this simple examples, we are going to use the defaults."
   ]
  },
  {
   "cell_type": "markdown",
   "id": "91cfebec",
   "metadata": {},
   "source": [
    "# MNIST"
   ]
  },
  {
   "cell_type": "code",
   "execution_count": null,
   "id": "4dca0824",
   "metadata": {},
   "outputs": [],
   "source": [
    "(x_train, y_train), (x_test, y_test) = keras.datasets.mnist.load_data()\n",
    "\n",
    "x_train.shape, y_train.shape"
   ]
  },
  {
   "cell_type": "code",
   "execution_count": null,
   "id": "c5bed474",
   "metadata": {},
   "outputs": [],
   "source": [
    "fig, axs = plt.subplots(2, 5, figsize=(9, 3), constrained_layout=True)\n",
    "\n",
    "for i, ax in enumerate(axs.flat):\n",
    "    ax.imshow(x_train[i], cmap='gray_r')"
   ]
  },
  {
   "cell_type": "markdown",
   "id": "c78b9d9f-be42-4b19-a130-81a85c33763d",
   "metadata": {},
   "source": [
    "Now we need to compile the model, which also defines loss function, optimizer and metrics we want to evaluate"
   ]
  },
  {
   "cell_type": "code",
   "execution_count": null,
   "id": "87f11b66",
   "metadata": {},
   "outputs": [],
   "source": [
    "model = create_model(n_classes=10, n_hidden=128)\n",
    "\n",
    "model.compile(\n",
    "    loss=keras.losses.SparseCategoricalCrossentropy(),\n",
    "    optimizer=keras.optimizers.Adam(learning_rate=1e-3),\n",
    "    metrics=[\n",
    "        keras.metrics.SparseCategoricalAccuracy(name=\"accuracy\"),\n",
    "    ],\n",
    ")"
   ]
  },
  {
   "cell_type": "code",
   "execution_count": null,
   "id": "8c850d30-75e3-4028-a280-efc0e9c07d71",
   "metadata": {},
   "outputs": [],
   "source": [
    "batch_size = 128\n",
    "epochs = 20\n",
    "\n",
    "history = model.fit(\n",
    "    x_train,\n",
    "    y_train,\n",
    "    batch_size=batch_size,\n",
    "    epochs=epochs,\n",
    "    validation_split=0.15,\n",
    ")\n",
    "score = model.evaluate(x_test, y_test, verbose=0)"
   ]
  },
  {
   "cell_type": "code",
   "execution_count": null,
   "id": "4f50fc2e",
   "metadata": {},
   "outputs": [],
   "source": [
    "from matplotlib.ticker import IndexLocator\n",
    "\n",
    "def plot_losses(history):\n",
    "    fig, (ax1, ax2) = plt.subplots(2, 1, sharex=True)\n",
    "    \n",
    "    ax1.plot(history.history[\"loss\"], label=\"train\")\n",
    "    ax1.plot(history.history[\"val_loss\"], label=\"validation\")\n",
    "\n",
    "    ax2.plot(history.history[\"accuracy\"], label=\"train\")\n",
    "    ax2.plot(history.history[\"val_accuracy\"], label=\"validation\")\n",
    "\n",
    "    ax1.set(\n",
    "        ylabel=\"loss\",\n",
    "    )\n",
    "    ax2.set(\n",
    "        xlabel=\"epoch\",\n",
    "        ylabel=\"accuracy\",\n",
    "    )\n",
    "\n",
    "    ax1.legend()\n",
    "    ax2.legend()\n",
    "    ax2.xaxis.set_major_locator(IndexLocator(2, 0))"
   ]
  },
  {
   "cell_type": "code",
   "execution_count": null,
   "id": "5bf4e9ae",
   "metadata": {},
   "outputs": [],
   "source": [
    "plot_losses(history)"
   ]
  },
  {
   "cell_type": "markdown",
   "id": "9fc3a125-0d46-4779-b62c-581f61505ae6",
   "metadata": {},
   "source": [
    "The validation loss is lower in the beginning, mainly due to two reasons:\n",
    "\n",
    "* The model is learning fast and the train loss is the mean over the epoch while the validation loss is evaluated at the end of the epoch.\n",
    "* Dropout is active for the training evaluation, but the validation uses the full network"
   ]
  },
  {
   "cell_type": "markdown",
   "id": "6a6fee71",
   "metadata": {},
   "source": [
    "# CIFAR-10"
   ]
  },
  {
   "cell_type": "code",
   "execution_count": null,
   "id": "91821c11",
   "metadata": {},
   "outputs": [],
   "source": [
    "(x_train, y_train), (x_test, y_test) = keras.datasets.cifar10.load_data()"
   ]
  },
  {
   "cell_type": "code",
   "execution_count": null,
   "id": "8c290b31-5d0c-4442-aa2b-ff81edd80488",
   "metadata": {},
   "outputs": [],
   "source": [
    "x_train.shape, y_train.shape"
   ]
  },
  {
   "cell_type": "code",
   "execution_count": null,
   "id": "b9006984-eca8-4366-aa95-bcfe8851f76e",
   "metadata": {},
   "outputs": [],
   "source": [
    "cifar10_classes = dict(enumerate([\"airplane\", \"automobile\", \"bird\", \"cat\", \"deer\", \"dog\", \"frog\", \"horse\", \"ship\", \"truck\"]))"
   ]
  },
  {
   "cell_type": "code",
   "execution_count": null,
   "id": "fc54c5a2",
   "metadata": {},
   "outputs": [],
   "source": [
    "fig, axs = plt.subplots(4, 4, figsize=(9, 9), constrained_layout=True)\n",
    "\n",
    "rng = np.random.default_rng(0)\n",
    "indices = rng.choice(len(y_train), size=axs.size)\n",
    "\n",
    "for idx, ax in zip(indices, axs.flat):\n",
    "\n",
    "    img = x_train[idx]    \n",
    "\n",
    "    ax.set_title(cifar10_classes[y_train[idx, 0]])\n",
    "    ax.imshow(img)\n",
    "    ax.set_axis_off()"
   ]
  },
  {
   "cell_type": "code",
   "execution_count": null,
   "id": "e28c57b5-5a7d-463c-a619-90db458eb264",
   "metadata": {},
   "outputs": [],
   "source": [
    "model = create_model(n_classes=len(cifar10_classes), n_hidden=128)\n",
    "\n",
    "\n",
    "model.compile(\n",
    "    loss=keras.losses.SparseCategoricalCrossentropy(),\n",
    "    optimizer=keras.optimizers.Adam(learning_rate=1e-3),\n",
    "    metrics=[\n",
    "        keras.metrics.SparseCategoricalAccuracy(name=\"accuracy\"),\n",
    "    ],\n",
    ")"
   ]
  },
  {
   "cell_type": "code",
   "execution_count": null,
   "id": "77e19540-45dc-492b-b929-3169e4234bd2",
   "metadata": {},
   "outputs": [],
   "source": [
    "batch_size = 128\n",
    "epochs = 30\n",
    "\n",
    "history = model.fit(\n",
    "    x_train,\n",
    "    y_train,\n",
    "    batch_size=batch_size,\n",
    "    epochs=epochs,\n",
    "    validation_split=0.15,\n",
    ")\n",
    "score = model.evaluate(x_test, y_test, verbose=0)\n",
    "score"
   ]
  },
  {
   "cell_type": "code",
   "execution_count": null,
   "id": "271bd140-2030-4463-a29e-1a08f4fff668",
   "metadata": {},
   "outputs": [],
   "source": [
    "plot_losses(history)"
   ]
  },
  {
   "cell_type": "markdown",
   "id": "d5481c6d-0e64-4232-a66f-060cb62b019f",
   "metadata": {},
   "source": [
    "We do not get much better than 50 % with a fully connected network.\n",
    "\n",
    "Let's try a convolutional network. First a relatively simple one, based on the Keras examples:"
   ]
  },
  {
   "cell_type": "code",
   "execution_count": null,
   "id": "9f8a2b81-c535-4040-bfd6-dfa07b18bd4a",
   "metadata": {},
   "outputs": [],
   "source": [
    "input_shape = x_train[0].shape\n",
    "n_classes = len(cifar10_classes)\n",
    "\n",
    "model = keras.Sequential(\n",
    "    [\n",
    "        keras.Input(shape=input_shape),\n",
    "        layers.BatchNormalization(),\n",
    "        layers.Conv2D(32, kernel_size=(3, 3), activation=\"relu\"),\n",
    "        layers.MaxPooling2D(pool_size=(2, 2)),\n",
    "        layers.Conv2D(64, kernel_size=(3, 3), activation=\"relu\"),\n",
    "        layers.MaxPooling2D(pool_size=(2, 2)),\n",
    "        layers.Flatten(),\n",
    "        layers.Dropout(0.5),\n",
    "        layers.BatchNormalization(),\n",
    "        layers.Dense(n_classes, activation=\"softmax\"),\n",
    "    ]\n",
    ")\n",
    "\n",
    "model.compile(\n",
    "    loss=keras.losses.SparseCategoricalCrossentropy(),\n",
    "    optimizer=keras.optimizers.Adam(learning_rate=1e-3),\n",
    "    metrics=[\n",
    "        keras.metrics.SparseCategoricalAccuracy(name=\"accuracy\"),\n",
    "    ],\n",
    ")\n",
    "\n",
    "model.summary()"
   ]
  },
  {
   "cell_type": "code",
   "execution_count": null,
   "id": "763c4182-81a0-4cda-aa91-c7edadd48862",
   "metadata": {},
   "outputs": [],
   "source": [
    "batch_size = 128\n",
    "epochs = 20\n",
    "\n",
    "history = model.fit(\n",
    "    x_train,\n",
    "    y_train,\n",
    "    batch_size=batch_size,\n",
    "    epochs=epochs,\n",
    "    validation_split=0.15,\n",
    ")\n",
    "score = model.evaluate(x_test, y_test, verbose=0)\n",
    "score"
   ]
  },
  {
   "cell_type": "code",
   "execution_count": null,
   "id": "1ae836f7-4ee4-42a7-9b41-e2b0f87abd3b",
   "metadata": {},
   "outputs": [],
   "source": [
    "plot_losses(history)"
   ]
  },
  {
   "cell_type": "markdown",
   "id": "ac5df220-abb7-47e3-824c-0828c3c347d1",
   "metadata": {},
   "source": [
    "Let's try another architecture, from https://arxiv.org/abs/1409.1556\n",
    "\n",
    "> Very Deep Convolutional Networks for Large-Scale Image Recognition  \n",
    "> Karen Simonyan, Andrew Zisserman\n",
    "\n",
    "> In this work we investigate the effect of the convolutional network depth on its accuracy in the large-scale image recognition setting. Our main contribution is a thorough evaluation of networks of increasing depth using an architecture with very small (3x3) convolution filters, which shows that a significant improvement on the prior-art configurations can be achieved by pushing the depth to 16-19 weight layers. These findings were the basis of our ImageNet Challenge 2014 submission, where our team secured the first and the second places in the localisation and classification tracks respectively. We also show that our representations generalise well to other datasets, where they achieve state-of-the-art results. We have made our two best-performing ConvNet models publicly available to facilitate further research on the use of deep visual representations in computer vision. "
   ]
  },
  {
   "cell_type": "code",
   "execution_count": null,
   "id": "b3f1c80a-85e7-404e-90b5-65a5dc9e6334",
   "metadata": {},
   "outputs": [],
   "source": [
    "model = keras.Sequential(\n",
    "    [\n",
    "        keras.Input(shape=input_shape),\n",
    "\n",
    "        # first convolutional stack\n",
    "        layers.Conv2D(32, kernel_size=(3, 3), activation=\"leaky_relu\", padding=\"same\"),\n",
    "        layers.Conv2D(32, kernel_size=(3, 3), activation=\"leaky_relu\", padding=\"same\"),\n",
    "        layers.BatchNormalization(),\n",
    "        layers.MaxPooling2D(pool_size=(2, 2)),\n",
    "        layers.Dropout(0.25),\n",
    "\n",
    "        # second convolutional stack\n",
    "        layers.Conv2D(64, kernel_size=(3, 3), activation=\"leaky_relu\", padding=\"same\"),\n",
    "        layers.Conv2D(64, kernel_size=(3, 3), activation=\"leaky_relu\", padding=\"same\"),\n",
    "        layers.BatchNormalization(),\n",
    "        layers.MaxPooling2D(pool_size=(2, 2)),\n",
    "        layers.Dropout(0.25),\n",
    "\n",
    "        # third convolutional stack\n",
    "        layers.Conv2D(128, kernel_size=(3, 3), activation=\"leaky_relu\", padding=\"same\"),\n",
    "        layers.Conv2D(128, kernel_size=(3, 3), activation=\"leaky_relu\", padding=\"same\"),\n",
    "        layers.BatchNormalization(),\n",
    "        layers.MaxPooling2D(pool_size=(2, 2)),\n",
    "        layers.Dropout(0.25),\n",
    "\n",
    "        # fully-connected part\n",
    "        layers.Flatten(),\n",
    "        layers.Dense(128, activation=\"leaky_relu\"),\n",
    "        layers.Dropout(0.25),\n",
    "        layers.Dense(n_classes, activation=\"softmax\"),\n",
    "    ]\n",
    ")\n",
    "\n",
    "model.compile(\n",
    "    loss=keras.losses.SparseCategoricalCrossentropy(),\n",
    "    optimizer=keras.optimizers.Adam(learning_rate=1e-3),\n",
    "    metrics=[\n",
    "        keras.metrics.SparseCategoricalAccuracy(name=\"accuracy\"),\n",
    "    ],\n",
    ")\n",
    "\n",
    "model.summary()"
   ]
  },
  {
   "cell_type": "code",
   "execution_count": null,
   "id": "0a505340-eb78-43af-9b01-17c1fab7323c",
   "metadata": {},
   "outputs": [],
   "source": [
    "batch_size = 64\n",
    "epochs = 30\n",
    "\n",
    "history = model.fit(\n",
    "    x_train,\n",
    "    y_train,\n",
    "    batch_size=batch_size,\n",
    "    epochs=epochs,\n",
    "    validation_split=0.15,\n",
    ")"
   ]
  },
  {
   "cell_type": "code",
   "execution_count": null,
   "id": "020ce7e7-5fa0-4e29-bc78-3d485fea0040",
   "metadata": {},
   "outputs": [],
   "source": [
    "test_loss, test_accuracy = model.evaluate(x_test, y_test, verbose=0)"
   ]
  },
  {
   "cell_type": "code",
   "execution_count": null,
   "id": "09c3967e-c577-4718-b14e-abc358f71e5c",
   "metadata": {},
   "outputs": [],
   "source": [
    "plot_losses(history)"
   ]
  },
  {
   "cell_type": "code",
   "execution_count": null,
   "id": "56b3bbc9-d16d-442e-817b-76d18c9f25d6",
   "metadata": {},
   "outputs": [],
   "source": [
    "predicted_score = model.predict(x_test)\n",
    "prediction = np.argmax(predicted_score, axis=1)"
   ]
  },
  {
   "cell_type": "code",
   "execution_count": null,
   "id": "e8b4cd99-2d4c-459d-b399-5c9df01dd326",
   "metadata": {},
   "outputs": [],
   "source": [
    "prediction"
   ]
  },
  {
   "cell_type": "code",
   "execution_count": null,
   "id": "c330ae0d-d02c-49e7-b4d3-64802ab5aca3",
   "metadata": {},
   "outputs": [],
   "source": [
    "test_accuracy"
   ]
  },
  {
   "cell_type": "code",
   "execution_count": null,
   "id": "0f1da51d",
   "metadata": {},
   "outputs": [],
   "source": [
    "from sklearn.metrics import confusion_matrix\n",
    "\n",
    "\n",
    "classes = list(cifar10_classes.values())\n",
    "\n",
    "\n",
    "matrix = confusion_matrix(y_test, prediction)\n",
    "matrix = np.divide(matrix, matrix.sum(axis = 1))\n",
    "\n",
    "fig, ax = plt.subplots()\n",
    "\n",
    "mat = ax.matshow(matrix)\n",
    "ax.set_xticks(np.arange(len(classes)))\n",
    "ax.set_xticklabels(classes, rotation=90)\n",
    "\n",
    "ax.set_yticks(np.arange(len(classes)))\n",
    "ax.set_yticklabels(classes)\n",
    "\n",
    "fig.colorbar(mat)\n",
    "    \n",
    "None"
   ]
  },
  {
   "cell_type": "markdown",
   "id": "9956dd0a-5939-496f-9146-3abbe38e7e2a",
   "metadata": {},
   "source": [
    "## Fashion-MNIST"
   ]
  },
  {
   "cell_type": "code",
   "execution_count": null,
   "id": "c5c93955-9266-403f-8e93-16f37a9f3a65",
   "metadata": {},
   "outputs": [],
   "source": [
    "(x_train, y_train), (x_test, y_test) = keras.datasets.fashion_mnist.load_data()\n"
   ]
  },
  {
   "cell_type": "code",
   "execution_count": null,
   "id": "7a1b8cb2-b70f-4500-96d0-58dcfcfde639",
   "metadata": {},
   "outputs": [],
   "source": [
    "x_train.shape, y_train.shape"
   ]
  },
  {
   "cell_type": "code",
   "execution_count": null,
   "id": "8091ddd7-20c2-4b2e-9dc6-84773572a0fd",
   "metadata": {},
   "outputs": [],
   "source": [
    "fashion_mnist_classes = {\n",
    "    0: \"T-shirt/top\",\n",
    "    1: \"Trouser\",\n",
    "    2: \"Pullover\",\n",
    "    3: \"Dress\",\n",
    "    4: \"Coat\",\n",
    "    5: \"Sandal\",\n",
    "    6: \"Shirt\",\n",
    "    7: \"Sneaker\",\n",
    "    8: \"Bag\",\n",
    "    9: \"Ankle boot\",\n",
    "}"
   ]
  },
  {
   "cell_type": "code",
   "execution_count": null,
   "id": "54307794-2363-494c-ae20-81bc144376ca",
   "metadata": {},
   "outputs": [],
   "source": [
    "fig, axs = plt.subplots(4, 4, figsize=(9, 9), constrained_layout=True)\n",
    "\n",
    "rng = np.random.default_rng(0)\n",
    "indices = rng.choice(len(y_train), size=axs.size)\n",
    "\n",
    "for idx, ax in zip(indices, axs.flat):\n",
    "\n",
    "    img = x_train[idx]    \n",
    "\n",
    "    ax.set_title(fashion_mnist_classes[y_train[idx]])\n",
    "    ax.imshow(img, cmap='gray_r')\n",
    "    ax.set_axis_off()"
   ]
  },
  {
   "cell_type": "code",
   "execution_count": null,
   "id": "749669b3-0119-4d77-8f05-498d82c11b91",
   "metadata": {},
   "outputs": [],
   "source": [
    "# add one dimension for the \"color channels\"\n",
    "\n",
    "x_train = x_train[..., np.newaxis]\n",
    "x_test = x_test[..., np.newaxis]"
   ]
  },
  {
   "cell_type": "code",
   "execution_count": null,
   "id": "a210838e-74d8-43c4-b959-9420bd03ed72",
   "metadata": {},
   "outputs": [],
   "source": [
    "input_shape = x_train[0].shape\n",
    "n_classes = len(fashion_mnist_classes)\n",
    "\n",
    "\n",
    "model = keras.Sequential(\n",
    "    [\n",
    "        keras.Input(shape=input_shape),\n",
    "\n",
    "        # first convolutional stack\n",
    "        layers.Conv2D(32, kernel_size=(3, 3), activation=\"leaky_relu\", padding=\"same\"),\n",
    "        layers.Conv2D(32, kernel_size=(3, 3), activation=\"leaky_relu\", padding=\"same\"),\n",
    "        layers.BatchNormalization(),\n",
    "        layers.MaxPooling2D(pool_size=(2, 2)),\n",
    "        layers.Dropout(0.25),\n",
    "\n",
    "        # second convolutional stack\n",
    "        layers.Conv2D(64, kernel_size=(3, 3), activation=\"leaky_relu\", padding=\"same\"),\n",
    "        layers.Conv2D(64, kernel_size=(3, 3), activation=\"leaky_relu\", padding=\"same\"),\n",
    "        layers.BatchNormalization(),\n",
    "        layers.MaxPooling2D(pool_size=(2, 2)),\n",
    "        layers.Dropout(0.25),\n",
    "\n",
    "        # third convolutional stack\n",
    "        layers.Conv2D(128, kernel_size=(3, 3), activation=\"leaky_relu\", padding=\"same\"),\n",
    "        layers.Conv2D(128, kernel_size=(3, 3), activation=\"leaky_relu\", padding=\"same\"),\n",
    "        layers.BatchNormalization(),\n",
    "        layers.MaxPooling2D(pool_size=(2, 2)),\n",
    "        layers.Dropout(0.25),\n",
    "\n",
    "        # fully-connected part\n",
    "        layers.Flatten(),\n",
    "        layers.Dense(128, activation=\"leaky_relu\"),\n",
    "        layers.Dropout(0.25),\n",
    "        layers.Dense(n_classes, activation=\"softmax\"),\n",
    "    ]\n",
    ")\n",
    "\n",
    "model.compile(\n",
    "    loss=keras.losses.SparseCategoricalCrossentropy(),\n",
    "    optimizer=keras.optimizers.Adam(learning_rate=1e-3),\n",
    "    metrics=[\n",
    "        keras.metrics.SparseCategoricalAccuracy(name=\"accuracy\"),\n",
    "    ],\n",
    ")\n",
    "\n",
    "model.summary()"
   ]
  },
  {
   "cell_type": "code",
   "execution_count": null,
   "id": "e888251d-fb8d-4349-9801-fb8886597fa3",
   "metadata": {},
   "outputs": [],
   "source": [
    "batch_size = 64\n",
    "epochs = 30\n",
    "\n",
    "history = model.fit(\n",
    "    x_train,\n",
    "    y_train,\n",
    "    batch_size=batch_size,\n",
    "    epochs=epochs,\n",
    "    validation_split=0.15,\n",
    ")"
   ]
  },
  {
   "cell_type": "markdown",
   "id": "69c468e7-28c2-4330-a93e-b51cf35ddc0d",
   "metadata": {},
   "source": [
    "Further links:\n",
    "* [Keras Documentation](https://keras.io)\n",
    "* [Keras Quickstart Tutorial](https://keras.io/getting_started/intro_to_keras_for_engineers/)\n",
    "* [Keras Examples](https://keras.io/examples/)"
   ]
  },
  {
   "cell_type": "markdown",
   "id": "52044197-fa81-4186-afe6-84418c1fb990",
   "metadata": {},
   "source": [
    "The best current performance claimed on CIFAR-10 is 99.5 % accuracy:\n",
    "\n",
    "https://en.wikipedia.org/wiki/CIFAR-10#Research_papers_claiming_state-of-the-art_results_on_CIFAR-10"
   ]
  }
 ],
 "metadata": {
  "kernelspec": {
   "display_name": "Python 3 (ipykernel)",
   "language": "python",
   "name": "python3"
  },
  "language_info": {
   "codemirror_mode": {
    "name": "ipython",
    "version": 3
   },
   "file_extension": ".py",
   "mimetype": "text/x-python",
   "name": "python",
   "nbconvert_exporter": "python",
   "pygments_lexer": "ipython3",
   "version": "3.12.4"
  }
 },
 "nbformat": 4,
 "nbformat_minor": 5
}
